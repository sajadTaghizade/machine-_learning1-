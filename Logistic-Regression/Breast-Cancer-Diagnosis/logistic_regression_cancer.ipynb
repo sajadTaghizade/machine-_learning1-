{
 "cells": [
  {
   "cell_type": "code",
   "execution_count": 49,
   "id": "de34e03c",
   "metadata": {},
   "outputs": [],
   "source": [
    "import numpy as np\n",
    "import pandas as pd\n",
    "import matplotlib.pyplot as plt\n",
    "from sklearn.datasets import load_breast_cancer\n",
    "from sklearn.model_selection import train_test_split\n",
    "from sklearn.preprocessing import StandardScaler\n",
    "from sklearn.metrics import accuracy_score, classification_report\n",
    "from sklearn.linear_model import LogisticRegression\n"
   ]
  },
  {
   "cell_type": "code",
   "execution_count": 50,
   "id": "3fca5d3c",
   "metadata": {},
   "outputs": [
    {
     "name": "stdout",
     "output_type": "stream",
     "text": [
      "Shape of input data (X): (569, 30)\n",
      "Shape of labels (y): (569,)\n",
      "\n",
      "Feature Names: ['mean radius' 'mean texture' 'mean perimeter' 'mean area'\n",
      " 'mean smoothness']\n",
      "Class Names: ['malignant' 'benign']\n"
     ]
    }
   ],
   "source": [
    "data = load_breast_cancer()\n",
    "X, y = data.data, data.target\n",
    "\n",
    "print(f\"Shape of input data (X): {X.shape}\")\n",
    "print(f\"Shape of labels (y): {y.shape}\")\n",
    "print(f\"\\nFeature Names: {data.feature_names[:5]}\")\n",
    "print(f\"Class Names: {data.target_names}\")\n"
   ]
  },
  {
   "cell_type": "code",
   "execution_count": 51,
   "id": "eb691b31",
   "metadata": {},
   "outputs": [],
   "source": [
    "X_train, X_test, y_train, y_test = train_test_split(X, y, test_size=0.2, random_state=42)"
   ]
  },
  {
   "cell_type": "code",
   "execution_count": 52,
   "id": "cdb7f333",
   "metadata": {},
   "outputs": [],
   "source": [
    "scaler = StandardScaler()\n",
    "X_train_scaled = scaler.fit_transform(X_train)\n",
    "X_test_scaled = scaler.transform(X_test)"
   ]
  },
  {
   "cell_type": "code",
   "execution_count": 53,
   "id": "797b5cd0",
   "metadata": {},
   "outputs": [
    {
     "name": "stdout",
     "output_type": "stream",
     "text": [
      "--- Results from Scikit-learn Model ---\n",
      "Accuracy: 0.9737\n",
      "\n",
      "Classification Report:\n",
      "              precision    recall  f1-score   support\n",
      "\n",
      "   malignant       0.98      0.95      0.96        43\n",
      "      benign       0.97      0.99      0.98        71\n",
      "\n",
      "    accuracy                           0.97       114\n",
      "   macro avg       0.97      0.97      0.97       114\n",
      "weighted avg       0.97      0.97      0.97       114\n",
      "\n"
     ]
    }
   ],
   "source": [
    "model_sklearn = LogisticRegression(random_state=42)\n",
    "\n",
    "model_sklearn.fit(X_train_scaled, y_train)\n",
    "\n",
    "y_pred_sklearn = model_sklearn.predict(X_test_scaled)\n",
    "\n",
    "accuracy_sklearn = accuracy_score(y_test, y_pred_sklearn)\n",
    "print(\"--- Results from Scikit-learn Model ---\")\n",
    "print(f\"Accuracy: {accuracy_sklearn:.4f}\")\n",
    "print(\"\\nClassification Report:\")\n",
    "print(classification_report(y_test, y_pred_sklearn, target_names=data.target_names))"
   ]
  },
  {
   "cell_type": "markdown",
   "id": "b5008e71",
   "metadata": {},
   "source": [
    "\n",
    "\n",
    "## Mathematical Foundations of the Implementation\n",
    "\n",
    "This document breaks down the core mathematical formulas used to implement Logistic Regression with Gradient Descent from scratch.\n",
    "\n",
    "### 1. The Hypothesis - Sigmoid Function\n",
    "\n",
    "In logistic regression, our hypothesis, $h_{\\theta}(x)$, represents the predicted probability that the output `y` is 1 for a given input `x`. Since probabilities must be between 0 and 1, we cannot use a simple linear function. Instead, we use the **Sigmoid (or Logistic) Function**, which squashes any real-valued number into the range (0, 1).\n",
    "\n",
    "First, we calculate a linear combination of the input features and the parameters, which we call `z`:\n",
    "\n",
    "> $z = \\theta_0 + \\theta_1 x_1 + \\theta_2 x_2 + ... + \\theta_n x_n$\n",
    "\n",
    "In vectorized form, where $\\theta$ is the parameter vector and $X$ is the feature matrix (with an added column of ones for the intercept), this is written as:\n",
    "\n",
    "> $z = X \\theta$\n",
    "\n",
    "Next, we pass this value `z` through the sigmoid function, denoted by $\\sigma(z)$:\n",
    "\n",
    "> $h_{\\theta}(X) = \\sigma(z) = \\frac{1}{1 + e^{-z}}$\n",
    "\n",
    "The output, $h_{\\theta}(X)$, is a vector of predicted probabilities for the positive class (y=1).\n",
    "\n",
    "### 2. The Cost Function - Log Loss\n",
    "\n",
    "To measure how well our model is performing, we need a cost function. For logistic regression, we use the **Log Loss** (also known as Binary Cross-Entropy). This function is convex, ensuring that Gradient Descent can find the global minimum.\n",
    "\n",
    "The cost for a single training example is:\n",
    "> $Cost(h_{\\theta}(x), y) = -y \\log(h_{\\theta}(x)) - (1-y) \\log(1 - h_{\\theta}(x))$\n",
    "\n",
    "This formula heavily penalizes the model for predictions that are confident but wrong. To get the total cost over all `m` training examples, we average the cost for each example. This gives us the final cost function, $J(\\theta)$:\n",
    "\n",
    "> $J(\\theta) = -\\frac{1}{m} \\sum_{i=1}^{m} [y^{(i)} \\log(h_{\\theta}(x^{(i)})) + (1-y^{(i)}) \\log(1 - h_{\\theta}(x^{(i)}))]$\n",
    "\n",
    "Our goal is to find the values of `theta` that minimize this function $J(\\theta)$.\n",
    "\n",
    "### 3. The Gradient of the Cost Function\n",
    "\n",
    "To minimize the cost function using Gradient Descent, we need to know which direction to move our `theta` values. This direction is given by the **gradient**, which is the vector of partial derivatives of the cost function with respect to each parameter $\\theta_j$.\n",
    "\n",
    "The partial derivative of $J(\\theta)$ with respect to a single parameter $\\theta_j$ is:\n",
    "\n",
    "> $\\frac{\\partial J(\\theta)}{\\partial \\theta_j} = \\frac{1}{m} \\sum_{i=1}^{m} (h_{\\theta}(x^{(i)}) - y^{(i)})x_j^{(i)}$\n",
    "\n",
    "To make our implementation efficient, we use the vectorized form, which calculates the gradient for all parameters at once:\n",
    "\n",
    "> $\\nabla J(\\theta) = \\frac{1}{m} X^T (h_{\\theta}(X) - y)$\n",
    "\n",
    "Here:\n",
    "- $\\nabla J(\\theta)$ is the gradient vector.\n",
    "- $X^T$ is the transpose of the feature matrix.\n",
    "- $(h_{\\theta}(X) - y)$ is the vector of prediction errors.\n",
    "\n",
    "### 4. The Gradient Descent Update Rule\n",
    "\n",
    "Finally, the Gradient Descent algorithm uses the gradient to iteratively update the parameters `theta` in the opposite direction of the steepest ascent, thus minimizing the cost.\n",
    "\n",
    "The update rule is applied simultaneously to all parameters in each iteration:\n",
    "\n",
    "> $\\theta := \\theta - \\alpha \\nabla J(\\theta)$\n",
    "\n",
    "In this rule:\n",
    "- `θ` is the vector of our model's parameters.\n",
    "- `α` (alpha) is the **learning rate**, a hyperparameter that controls how large of a step we take in each iteration.\n",
    "- `∇J(θ)` is the gradient vector we calculated in the previous step.\n",
    "\n",
    "This process is repeated for a set number of iterations, gradually adjusting `theta` until the cost function $J(\\theta)$ is minimized."
   ]
  },
  {
   "cell_type": "code",
   "execution_count": 54,
   "id": "dbc7a5a1",
   "metadata": {},
   "outputs": [],
   "source": [
    "def sigmoid(z):\n",
    "    \"\"\"Sigmoid function\"\"\"\n",
    "    return 1 / (1 + np.exp(-z))\n",
    "\n",
    "def compute_cost(X, y, theta):\n",
    "    m = len(y)\n",
    "    h = sigmoid(X @ theta)\n",
    "    epsilon = 1e-5 \n",
    "    cost = (-1 / m) * np.sum(y * np.log(h + epsilon) + (1 - y) * np.log(1 - h + epsilon))\n",
    "    return cost\n",
    "def gradient_descent(X, y, theta, alpha, iterations):\n",
    "    m = len(y)\n",
    "    cost_history = np.zeros(iterations)\n",
    "\n",
    "    for i in range(iterations):\n",
    "        h = sigmoid(X @ theta)\n",
    "        gradient = (1 / m) * (X.T @ (h - y))\n",
    "        theta = theta - alpha * gradient\n",
    "        cost_history[i] = compute_cost(X, y, theta)\n",
    "        \n",
    "    return theta, cost_history"
   ]
  },
  {
   "cell_type": "code",
   "execution_count": 55,
   "id": "458e2caf",
   "metadata": {},
   "outputs": [],
   "source": [
    "X_train_b = np.c_[np.ones((len(X_train_scaled), 1)), X_train_scaled]\n",
    "X_test_b = np.c_[np.ones((len(X_test_scaled), 1)), X_test_scaled]\n",
    "\n",
    "y_train_reshaped = y_train.reshape(-1, 1)"
   ]
  },
  {
   "cell_type": "code",
   "execution_count": 56,
   "id": "4d4292a2",
   "metadata": {},
   "outputs": [
    {
     "name": "stdout",
     "output_type": "stream",
     "text": [
      "\n",
      "--- Results from Gradient Descent Model (from Scratch) ---\n",
      "Final parameters (theta) have been found.\n"
     ]
    }
   ],
   "source": [
    "alpha = 0.01     \n",
    "iterations = 2000\n",
    "n_features = X_train_b.shape[1]\n",
    "\n",
    "theta_initial = np.zeros((n_features, 1))\n",
    "\n",
    "theta_final, cost_history = gradient_descent(X_train_b, y_train_reshaped, theta_initial, alpha, iterations)\n",
    "\n",
    "print(\"\\n--- Results from Gradient Descent Model (from Scratch) ---\")\n",
    "print(f\"Final parameters (theta) have been found.\")"
   ]
  },
  {
   "cell_type": "code",
   "execution_count": 57,
   "id": "7c8bbcec",
   "metadata": {},
   "outputs": [
    {
     "name": "stdout",
     "output_type": "stream",
     "text": [
      "Accuracy: 0.9912\n",
      "\n",
      "Classification Report:\n",
      "              precision    recall  f1-score   support\n",
      "\n",
      "   malignant       1.00      0.98      0.99        43\n",
      "      benign       0.99      1.00      0.99        71\n",
      "\n",
      "    accuracy                           0.99       114\n",
      "   macro avg       0.99      0.99      0.99       114\n",
      "weighted avg       0.99      0.99      0.99       114\n",
      "\n"
     ]
    }
   ],
   "source": [
    "y_pred_scratch_prob = sigmoid(X_test_b @ theta_final)\n",
    "y_pred_scratch = (y_pred_scratch_prob >= 0.5).astype(int).flatten()\n",
    "\n",
    "accuracy_scratch = accuracy_score(y_test, y_pred_scratch)\n",
    "print(f\"Accuracy: {accuracy_scratch:.4f}\")\n",
    "print(\"\\nClassification Report:\")\n",
    "print(classification_report(y_test, y_pred_scratch, target_names=data.target_names))"
   ]
  },
  {
   "cell_type": "code",
   "execution_count": 58,
   "id": "3962f5e7",
   "metadata": {},
   "outputs": [
    {
     "name": "stdout",
     "output_type": "stream",
     "text": [
      "\n",
      "--- Final Comparison ---\n",
      "Scikit-learn Model Accuracy: 0.9737\n",
      "From-Scratch Model Accuracy: 0.9912\n"
     ]
    },
    {
     "data": {
      "image/png": "[encoded data removed]",
      "text/plain": [
       "<Figure size 1000x600 with 1 Axes>"
      ]
     },
     "metadata": {},
     "output_type": "display_data"
    }
   ],
   "source": [
    "print(\"\\n--- Final Comparison ---\")\n",
    "print(f\"Scikit-learn Model Accuracy: {accuracy_sklearn:.4f}\")\n",
    "print(f\"From-Scratch Model Accuracy: {accuracy_scratch:.4f}\")\n",
    "\n",
    "plt.figure(figsize=(10, 6))\n",
    "plt.plot(range(iterations), cost_history, 'b-')\n",
    "plt.title(\"Cost Reduction Over Iterations\")\n",
    "plt.xlabel(\"Iterations\")\n",
    "plt.ylabel(\"Cost\")\n",
    "plt.grid(True)\n",
    "plt.show()"
   ]
  }
 ],
 "metadata": {
  "kernelspec": {
   "display_name": "Python 3",
   "language": "python",
   "name": "python3"
  },
  "language_info": {
   "codemirror_mode": {
    "name": "ipython",
    "version": 3
   },
   "file_extension": ".py",
   "mimetype": "text/x-python",
   "name": "python",
   "nbconvert_exporter": "python",
   "pygments_lexer": "ipython3",
   "version": "3.12.4"
  }
 },
 "nbformat": 4,
 "nbformat_minor": 5
}
