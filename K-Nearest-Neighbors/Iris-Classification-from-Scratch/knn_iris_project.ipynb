{
 "cells": [
  {
   "cell_type": "code",
   "execution_count": 9,
   "id": "edd8124d",
   "metadata": {},
   "outputs": [],
   "source": [
    "import numpy as np\n",
    "import pandas as pd\n",
    "import matplotlib.pyplot as plt\n",
    "import seaborn as sns\n",
    "from collections import Counter\n",
    "\n",
    "from sklearn.datasets import load_iris\n",
    "from sklearn.model_selection import train_test_split\n",
    "from sklearn.preprocessing import StandardScaler\n",
    "from sklearn.metrics import classification_report, accuracy_score\n"
   ]
  },
  {
   "cell_type": "code",
   "execution_count": 10,
   "id": "ac2949d2",
   "metadata": {},
   "outputs": [
    {
     "name": "stdout",
     "output_type": "stream",
     "text": [
      "--- Data Preparation Complete for Iris Dataset ---\n",
      "Feature names: ['sepal length (cm)', 'sepal width (cm)', 'petal length (cm)', 'petal width (cm)']\n",
      "Target names (classes): ['setosa' 'versicolor' 'virginica']\n",
      "Training data shape: (120, 4)\n",
      "Test data shape: (30, 4)\n"
     ]
    }
   ],
   "source": [
    "\n",
    "plt.style.use('ggplot')\n",
    "sns.set_palette(\"viridis\")\n",
    "\n",
    "iris = load_iris()\n",
    "X, y = iris.data, iris.target\n",
    "\n",
    "X_train, X_test, y_train, y_test = train_test_split(X, y, test_size=0.2, random_state=42)\n",
    "\n",
    "scaler = StandardScaler()\n",
    "X_train_scaled = scaler.fit_transform(X_train)\n",
    "X_test_scaled = scaler.transform(X_test)\n",
    "\n",
    "print(\"--- Data Preparation Complete for Iris Dataset ---\")\n",
    "print(f\"Feature names: {iris.feature_names}\")\n",
    "print(f\"Target names (classes): {iris.target_names}\")\n",
    "print(f\"Training data shape: {X_train_scaled.shape}\")\n",
    "print(f\"Test data shape: {X_test_scaled.shape}\")"
   ]
  },
  {
   "cell_type": "code",
   "execution_count": 11,
   "id": "a4355d8e",
   "metadata": {},
   "outputs": [
    {
     "name": "stdout",
     "output_type": "stream",
     "text": [
      "--- Euclidean Distance Calculation ---\n",
      "Distance between point1 and point2: 8.0000\n"
     ]
    }
   ],
   "source": [
    "def euclidean_distance(x1, x2):\n",
    "    return np.sqrt(np.sum((x1 - x2)**2))\n",
    "\n",
    "point1 = np.array([1, 2, 3, 4])\n",
    "point2 = np.array([5, 6, 7, 8])\n",
    "\n",
    "distance = euclidean_distance(point1, point2)\n",
    "\n",
    "print(\"--- Euclidean Distance Calculation ---\")\n",
    "print(f\"Distance between point1 and point2: {distance:.4f}\")"
   ]
  },
  {
   "cell_type": "code",
   "execution_count": 12,
   "id": "ef450dcf",
   "metadata": {},
   "outputs": [
    {
     "name": "stdout",
     "output_type": "stream",
     "text": [
      "--- Finding K-Nearest Neighbors ---\n",
      "The true label of the test sample is: 1 (versicolor)\n",
      "\n",
      "The 5 nearest neighbors are (distance, label):\n",
      "Distance: 0.3482, Label: 1\n",
      "Distance: 0.3677, Label: 1\n",
      "Distance: 0.4228, Label: 1\n",
      "Distance: 0.5041, Label: 1\n",
      "Distance: 0.5219, Label: 2\n"
     ]
    }
   ],
   "source": [
    "def _get_neighbors(X_train, y_train, test_row, k):\n",
    "   \n",
    "    distances = []\n",
    "    for i, train_row in enumerate(X_train):\n",
    "        dist = euclidean_distance(test_row, train_row)\n",
    "        distances.append((dist, y_train[i]))\n",
    "        \n",
    "    distances.sort(key=lambda item: item[0])\n",
    "    \n",
    "    neighbors = distances[:k]\n",
    "    \n",
    "    return neighbors\n",
    "\n",
    "k = 5\n",
    "test_sample = X_test_scaled[0]\n",
    "true_label_of_test_sample = y_test[0]\n",
    "\n",
    "neighbors = _get_neighbors(X_train_scaled, y_train, test_sample, k)\n",
    "\n",
    "print(\"--- Finding K-Nearest Neighbors ---\")\n",
    "print(f\"The true label of the test sample is: {true_label_of_test_sample} ({iris.target_names[true_label_of_test_sample]})\")\n",
    "print(f\"\\nThe {k} nearest neighbors are (distance, label):\")\n",
    "for neighbor in neighbors:\n",
    "    print(f\"Distance: {neighbor[0]:.4f}, Label: {neighbor[1]}\")"
   ]
  },
  {
   "cell_type": "code",
   "execution_count": 13,
   "id": "bc662d6f",
   "metadata": {},
   "outputs": [
    {
     "name": "stdout",
     "output_type": "stream",
     "text": [
      "--- Making a Prediction ---\n",
      "The labels of the 5 nearest neighbors are: [np.int64(1), np.int64(1), np.int64(1), np.int64(1), np.int64(2)]\n",
      "The true label of the test sample is: 1 (versicolor)\n",
      "The predicted label from the majority vote is: 1 (versicolor)\n",
      "\n",
      "The prediction was correct! ✅\n"
     ]
    }
   ],
   "source": [
    "from collections import Counter\n",
    "\n",
    "def _predict_classification(neighbors):\n",
    "    \n",
    "    neighbor_labels = [neighbor[1] for neighbor in neighbors]\n",
    "    \n",
    "    most_common = Counter(neighbor_labels).most_common(1)[0][0]\n",
    "    \n",
    "    return most_common\n",
    "\n",
    "predicted_label = _predict_classification(neighbors)\n",
    "\n",
    "print(\"--- Making a Prediction ---\")\n",
    "print(f\"The labels of the {k} nearest neighbors are: {[n[1] for n in neighbors]}\")\n",
    "print(f\"The true label of the test sample is: {true_label_of_test_sample} ({iris.target_names[true_label_of_test_sample]})\")\n",
    "print(f\"The predicted label from the majority vote is: {predicted_label} ({iris.target_names[predicted_label]})\")\n",
    "\n",
    "if predicted_label == true_label_of_test_sample:\n",
    "    print(\"\\nThe prediction was correct! ✅\")\n",
    "else:\n",
    "    print(\"\\nThe prediction was incorrect. ❌\")"
   ]
  },
  {
   "cell_type": "code",
   "execution_count": 14,
   "id": "4f2270bc",
   "metadata": {},
   "outputs": [
    {
     "name": "stdout",
     "output_type": "stream",
     "text": [
      "--- Final Evaluation of From-Scratch KNN Model ---\n",
      "The accuracy of our custom KNN model is: 1.0000\n"
     ]
    }
   ],
   "source": [
    "class KNN:\n",
    "    def __init__(self, k=3):\n",
    "       \n",
    "        self.k = k\n",
    "\n",
    "    def fit(self, X, y):\n",
    "        \n",
    "        self.X_train = X\n",
    "        self.y_train = y\n",
    "\n",
    "    def predict(self, X_test):\n",
    "       \n",
    "        predictions = [self._predict_single(x) for x in X_test]\n",
    "        return np.array(predictions)\n",
    "\n",
    "    def _predict_single(self, x):\n",
    "        \n",
    "        neighbors = self._get_neighbors(x)\n",
    "        \n",
    "        prediction = self._majority_vote(neighbors)\n",
    "        \n",
    "        return prediction\n",
    "\n",
    "    def _euclidean_distance(self, x1, x2):\n",
    "        return np.sqrt(np.sum((x1 - x2)**2))\n",
    "\n",
    "    def _get_neighbors(self, test_row):\n",
    "        distances = []\n",
    "        for i, train_row in enumerate(self.X_train):\n",
    "            dist = self._euclidean_distance(test_row, train_row)\n",
    "            distances.append((dist, self.y_train[i]))\n",
    "            \n",
    "        distances.sort(key=lambda item: item[0])\n",
    "        neighbors = distances[:self.k]\n",
    "        return neighbors\n",
    "\n",
    "    def _majority_vote(self, neighbors):\n",
    "        neighbor_labels = [neighbor[1] for neighbor in neighbors]\n",
    "        most_common = Counter(neighbor_labels).most_common(1)[0][0]\n",
    "        return most_common\n",
    "\n",
    "\n",
    "\n",
    "my_knn = KNN(k=5)\n",
    "\n",
    "my_knn.fit(X_train_scaled, y_train)\n",
    "\n",
    "y_pred_scratch = my_knn.predict(X_test_scaled)\n",
    "\n",
    "accuracy = accuracy_score(y_test, y_pred_scratch)\n",
    "\n",
    "print(\"--- Final Evaluation of From-Scratch KNN Model ---\")\n",
    "print(f\"The accuracy of our custom KNN model is: {accuracy:.4f}\")"
   ]
  },
  {
   "cell_type": "code",
   "execution_count": 15,
   "id": "d7569bb2",
   "metadata": {},
   "outputs": [
    {
     "name": "stdout",
     "output_type": "stream",
     "text": [
      "--- Scikit-learn KNN Model ---\n",
      "The accuracy of scikit-learn's KNN model is: 1.0000\n",
      "The accuracy of our custom KNN model was: 1.0000\n",
      "\n",
      "--- Full Classification Report ---\n",
      "              precision    recall  f1-score   support\n",
      "\n",
      "      setosa       1.00      1.00      1.00        10\n",
      "  versicolor       1.00      1.00      1.00         9\n",
      "   virginica       1.00      1.00      1.00        11\n",
      "\n",
      "    accuracy                           1.00        30\n",
      "   macro avg       1.00      1.00      1.00        30\n",
      "weighted avg       1.00      1.00      1.00        30\n",
      "\n"
     ]
    }
   ],
   "source": [
    "from sklearn.neighbors import KNeighborsClassifier\n",
    "\n",
    "print(\"--- Scikit-learn KNN Model ---\")\n",
    "\n",
    "sklearn_knn = KNeighborsClassifier(n_neighbors=5)\n",
    "\n",
    "sklearn_knn.fit(X_train_scaled, y_train)\n",
    "\n",
    "y_pred_sklearn = sklearn_knn.predict(X_test_scaled)\n",
    "\n",
    "accuracy_sklearn = accuracy_score(y_test, y_pred_sklearn)\n",
    "\n",
    "print(f\"The accuracy of scikit-learn's KNN model is: {accuracy_sklearn:.4f}\")\n",
    "print(f\"The accuracy of our custom KNN model was: {accuracy:.4f}\")\n",
    "\n",
    "print(\"\\n--- Full Classification Report ---\")\n",
    "print(classification_report(y_test, y_pred_sklearn, target_names=iris.target_names))"
   ]
  },
  {
   "cell_type": "code",
   "execution_count": 16,
   "id": "720197a6",
   "metadata": {},
   "outputs": [
    {
     "name": "stdout",
     "output_type": "stream",
     "text": [
      "--- Finding the best K for our dataset ---\n",
      "Accuracy for k=1: 1.0000\n",
      "Accuracy for k=2: 1.0000\n",
      "Accuracy for k=3: 1.0000\n",
      "Accuracy for k=4: 1.0000\n",
      "Accuracy for k=5: 1.0000\n",
      "Accuracy for k=6: 1.0000\n",
      "Accuracy for k=7: 1.0000\n",
      "Accuracy for k=8: 1.0000\n",
      "Accuracy for k=9: 1.0000\n",
      "Accuracy for k=10: 1.0000\n",
      "Accuracy for k=11: 1.0000\n",
      "Accuracy for k=12: 1.0000\n",
      "Accuracy for k=13: 1.0000\n",
      "Accuracy for k=14: 1.0000\n",
      "Accuracy for k=15: 1.0000\n",
      "Accuracy for k=16: 1.0000\n",
      "Accuracy for k=17: 1.0000\n",
      "Accuracy for k=18: 1.0000\n",
      "Accuracy for k=19: 1.0000\n",
      "Accuracy for k=20: 1.0000\n",
      "Accuracy for k=21: 1.0000\n",
      "Accuracy for k=22: 1.0000\n",
      "Accuracy for k=23: 1.0000\n",
      "Accuracy for k=24: 1.0000\n",
      "Accuracy for k=25: 1.0000\n"
     ]
    },
    {
     "data": {
      "image/png": "[encoded data removed]",
      "text/plain": [
       "<Figure size 1200x800 with 1 Axes>"
      ]
     },
     "metadata": {},
     "output_type": "display_data"
    },
    {
     "name": "stdout",
     "output_type": "stream",
     "text": [
      "\n",
      "The optimal value for K appears to be: 1\n"
     ]
    }
   ],
   "source": [
    "accuracy_scores = []\n",
    "\n",
    "k_range = range(1, 26)\n",
    "\n",
    "print(\"--- Finding the best K for our dataset ---\")\n",
    "for k in k_range:\n",
    "    knn = KNeighborsClassifier(n_neighbors=k)\n",
    "    \n",
    "    knn.fit(X_train_scaled, y_train)\n",
    "    \n",
    "    y_pred = knn.predict(X_test_scaled)\n",
    "    \n",
    "    accuracy = accuracy_score(y_test, y_pred)\n",
    "    accuracy_scores.append(accuracy)\n",
    "    print(f\"Accuracy for k={k}: {accuracy:.4f}\")\n",
    "\n",
    "plt.figure(figsize=(12, 8))\n",
    "plt.plot(k_range, accuracy_scores, color='blue', linestyle='dashed', marker='o',\n",
    "         markerfacecolor='red', markersize=10)\n",
    "plt.title('Accuracy vs. K Value for Iris Dataset')\n",
    "plt.xlabel('K (Number of Neighbors)')\n",
    "plt.ylabel('Accuracy Score')\n",
    "plt.xticks(k_range)\n",
    "plt.grid(True)\n",
    "plt.show()\n",
    "\n",
    "best_k = k_range[np.argmax(accuracy_scores)]\n",
    "print(f\"\\nThe optimal value for K appears to be: {best_k}\")"
   ]
  }
 ],
 "metadata": {
  "kernelspec": {
   "display_name": "Python 3",
   "language": "python",
   "name": "python3"
  },
  "language_info": {
   "codemirror_mode": {
    "name": "ipython",
    "version": 3
   },
   "file_extension": ".py",
   "mimetype": "text/x-python",
   "name": "python",
   "nbconvert_exporter": "python",
   "pygments_lexer": "ipython3",
   "version": "3.12.4"
  }
 },
 "nbformat": 4,
 "nbformat_minor": 5
}
